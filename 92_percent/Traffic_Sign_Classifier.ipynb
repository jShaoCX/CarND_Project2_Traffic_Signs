{
 "cells": [
  {
   "cell_type": "markdown",
   "metadata": {
    "deletable": true,
    "editable": true
   },
   "source": [
    "# Self-Driving Car Engineer Nanodegree\n",
    "\n",
    "## Deep Learning\n",
    "\n",
    "## Project: Build a Traffic Sign Recognition Classifier\n",
    "\n",
    "In this notebook, a template is provided for you to implement your functionality in stages, which is required to successfully complete this project. If additional code is required that cannot be included in the notebook, be sure that the Python code is successfully imported and included in your submission if necessary. \n",
    "\n",
    "> **Note**: Once you have completed all of the code implementations, you need to finalize your work by exporting the iPython Notebook as an HTML document. Before exporting the notebook to html, all of the code cells need to have been run so that reviewers can see the final implementation and output. You can then export the notebook by using the menu above and navigating to  \\n\",\n",
    "    \"**File -> Download as -> HTML (.html)**. Include the finished document along with this notebook as your submission. \n",
    "\n",
    "In addition to implementing code, there is a writeup to complete. The writeup should be completed in a separate file, which can be either a markdown file or a pdf document. There is a [write up template](https://github.com/udacity/CarND-Traffic-Sign-Classifier-Project/blob/master/writeup_template.md) that can be used to guide the writing process. Completing the code template and writeup template will cover all of the [rubric points](https://review.udacity.com/#!/rubrics/481/view) for this project.\n",
    "\n",
    "The [rubric](https://review.udacity.com/#!/rubrics/481/view) contains \"Stand Out Suggestions\" for enhancing the project beyond the minimum requirements. The stand out suggestions are optional. If you decide to pursue the \"stand out suggestions\", you can include the code in this Ipython notebook and also discuss the results in the writeup file.\n",
    "\n",
    "\n",
    ">**Note:** Code and Markdown cells can be executed using the **Shift + Enter** keyboard shortcut. In addition, Markdown cells can be edited by typically double-clicking the cell to enter edit mode."
   ]
  },
  {
   "cell_type": "markdown",
   "metadata": {
    "deletable": true,
    "editable": true
   },
   "source": [
    "---\n",
    "## Step 0: Load The Data"
   ]
  },
  {
   "cell_type": "code",
   "execution_count": 42,
   "metadata": {
    "collapsed": false,
    "deletable": true,
    "editable": true
   },
   "outputs": [
    {
     "name": "stdout",
     "output_type": "stream",
     "text": [
      "uint8\n"
     ]
    }
   ],
   "source": [
    "# Load pickled data\n",
    "import pickle\n",
    "\n",
    "# TODO: Fill this in based on where you saved the training and testing data\n",
    "\n",
    "training_file = './traffic-signs-data/train.p'\n",
    "validation_file='./traffic-signs-data/valid.p'\n",
    "testing_file = './traffic-signs-data/test.p'\n",
    "\n",
    "with open(training_file, mode='rb') as f:\n",
    "    train = pickle.load(f)\n",
    "with open(validation_file, mode='rb') as f:\n",
    "    valid = pickle.load(f)\n",
    "with open(testing_file, mode='rb') as f:\n",
    "    test = pickle.load(f)\n",
    "    \n",
    "X_train, y_train = train['features'], train['labels']\n",
    "X_valid, y_valid = valid['features'], valid['labels']\n",
    "X_test, y_test = test['features'], test['labels']\n",
    "\n",
    "print(X_train.dtype)"
   ]
  },
  {
   "cell_type": "markdown",
   "metadata": {
    "deletable": true,
    "editable": true
   },
   "source": [
    "---\n",
    "\n",
    "## Step 1: Dataset Summary & Exploration\n",
    "\n",
    "The pickled data is a dictionary with 4 key/value pairs:\n",
    "\n",
    "- `'features'` is a 4D array containing raw pixel data of the traffic sign images, (num examples, width, height, channels).\n",
    "- `'labels'` is a 1D array containing the label/class id of the traffic sign. The file `signnames.csv` contains id -> name mappings for each id.\n",
    "- `'sizes'` is a list containing tuples, (width, height) representing the original width and height the image.\n",
    "- `'coords'` is a list containing tuples, (x1, y1, x2, y2) representing coordinates of a bounding box around the sign in the image. **THESE COORDINATES ASSUME THE ORIGINAL IMAGE. THE PICKLED DATA CONTAINS RESIZED VERSIONS (32 by 32) OF THESE IMAGES**\n",
    "\n",
    "Complete the basic data summary below. Use python, numpy and/or pandas methods to calculate the data summary rather than hard coding the results. For example, the [pandas shape method](http://pandas.pydata.org/pandas-docs/stable/generated/pandas.DataFrame.shape.html) might be useful for calculating some of the summary results. "
   ]
  },
  {
   "cell_type": "markdown",
   "metadata": {
    "deletable": true,
    "editable": true
   },
   "source": [
    "### Provide a Basic Summary of the Data Set Using Python, Numpy and/or Pandas"
   ]
  },
  {
   "cell_type": "code",
   "execution_count": 43,
   "metadata": {
    "collapsed": false,
    "deletable": true,
    "editable": true
   },
   "outputs": [
    {
     "name": "stdout",
     "output_type": "stream",
     "text": [
      "Number of training examples = 34799\n",
      "Number of testing examples = 12630\n",
      "Image data shape = 4410\n",
      "Number of classes = 43\n"
     ]
    }
   ],
   "source": [
    "### Replace each question mark with the appropriate value. \n",
    "### Use python, pandas or numpy methods rather than hard coding the results\n",
    "\n",
    "# TODO: Number of training examples\n",
    "n_train = len(y_train)\n",
    "\n",
    "# TODO: Number of testing examples.\n",
    "n_test = len(y_test)\n",
    "\n",
    "# TODO: What's the shape of an traffic sign image?\n",
    "image_shape = len(y_valid)\n",
    "\n",
    "# TODO: How many unique classes/labels there are in the dataset.\n",
    "n_classes = max(y_train)+1\n",
    "\n",
    "print(\"Number of training examples =\", n_train)\n",
    "print(\"Number of testing examples =\", n_test)\n",
    "print(\"Image data shape =\", image_shape)\n",
    "print(\"Number of classes =\", n_classes)\n"
   ]
  },
  {
   "cell_type": "markdown",
   "metadata": {
    "deletable": true,
    "editable": true
   },
   "source": [
    "### Include an exploratory visualization of the dataset"
   ]
  },
  {
   "cell_type": "markdown",
   "metadata": {
    "deletable": true,
    "editable": true
   },
   "source": [
    "Visualize the German Traffic Signs Dataset using the pickled file(s). This is open ended, suggestions include: plotting traffic sign images, plotting the count of each sign, etc.\n",
    "\n",
    "The [Matplotlib](http://matplotlib.org/) [examples](http://matplotlib.org/examples/index.html) and [gallery](http://matplotlib.org/gallery.html) pages are a great resource for doing visualizations in Python.\n",
    "\n",
    "**NOTE:** It's recommended you start with something simple first. If you wish to do more, come back to it after you've completed the rest of the sections."
   ]
  },
  {
   "cell_type": "code",
   "execution_count": 44,
   "metadata": {
    "collapsed": false,
    "deletable": true,
    "editable": true
   },
   "outputs": [
    {
     "name": "stdout",
     "output_type": "stream",
     "text": [
      "(34799, 32, 32, 3)\n",
      "(32, 32, 3)\n"
     ]
    },
    {
     "data": {
      "text/plain": [
       "<matplotlib.image.AxesImage at 0x5b0539e8>"
      ]
     },
     "execution_count": 44,
     "metadata": {},
     "output_type": "execute_result"
    },
    {
     "data": {
      "image/png": "[encoded data removed]",
      "text/plain": [
       "<matplotlib.figure.Figure at 0x9844588>"
      ]
     },
     "metadata": {},
     "output_type": "display_data"
    }
   ],
   "source": [
    "### Data exploration visualization code goes here.\n",
    "### Feel free to use as many code cells as needed.\n",
    "import matplotlib.pyplot as plt\n",
    "# Visualizations will be shown in the notebook.\n",
    "%matplotlib inline\n",
    "\n",
    "print(X_train.shape)\n",
    "\n",
    "print(X_train[2000].shape)\n",
    "plt.imshow(X_train[2000])"
   ]
  },
  {
   "cell_type": "markdown",
   "metadata": {
    "deletable": true,
    "editable": true
   },
   "source": [
    "----\n",
    "\n",
    "## Step 2: Design and Test a Model Architecture\n",
    "\n",
    "Design and implement a deep learning model that learns to recognize traffic signs. Train and test your model on the [German Traffic Sign Dataset](http://benchmark.ini.rub.de/?section=gtsrb&subsection=dataset).\n",
    "\n",
    "The LeNet-5 implementation shown in the [classroom](https://classroom.udacity.com/nanodegrees/nd013/parts/fbf77062-5703-404e-b60c-95b78b2f3f9e/modules/6df7ae49-c61c-4bb2-a23e-6527e69209ec/lessons/601ae704-1035-4287-8b11-e2c2716217ad/concepts/d4aca031-508f-4e0b-b493-e7b706120f81) at the end of the CNN lesson is a solid starting point. You'll have to change the number of classes and possibly the preprocessing, but aside from that it's plug and play! \n",
    "\n",
    "With the LeNet-5 solution from the lecture, you should expect a validation set accuracy of about 0.89. To meet specifications, the validation set accuracy will need to be at least 0.93. It is possible to get an even higher accuracy, but 0.93 is the minimum for a successful project submission. \n",
    "\n",
    "There are various aspects to consider when thinking about this problem:\n",
    "\n",
    "- Neural network architecture (is the network over or underfitting?)\n",
    "- Play around preprocessing techniques (normalization, rgb to grayscale, etc)\n",
    "- Number of examples per label (some have more than others).\n",
    "- Generate fake data.\n",
    "\n",
    "Here is an example of a [published baseline model on this problem](http://yann.lecun.com/exdb/publis/pdf/sermanet-ijcnn-11.pdf). It's not required to be familiar with the approach used in the paper but, it's good practice to try to read papers like these."
   ]
  },
  {
   "cell_type": "markdown",
   "metadata": {
    "deletable": true,
    "editable": true
   },
   "source": [
    "### Pre-process the Data Set (normalization, grayscale, etc.)"
   ]
  },
  {
   "cell_type": "markdown",
   "metadata": {
    "deletable": true,
    "editable": true
   },
   "source": [
    "Use the code cell (or multiple code cells, if necessary) to implement the first step of your project."
   ]
  },
  {
   "cell_type": "code",
   "execution_count": 45,
   "metadata": {
    "collapsed": false,
    "deletable": true,
    "editable": true
   },
   "outputs": [
    {
     "data": {
      "text/plain": [
       "<matplotlib.image.AxesImage at 0x11bd4a20>"
      ]
     },
     "execution_count": 45,
     "metadata": {},
     "output_type": "execute_result"
    },
    {
     "data": {
      "image/png": "[encoded data removed]",
      "text/plain": [
       "<matplotlib.figure.Figure at 0x8fe3c50>"
      ]
     },
     "metadata": {},
     "output_type": "display_data"
    },
    {
     "data": {
      "image/png": "[encoded data removed]",
      "text/plain": [
       "<matplotlib.figure.Figure at 0x1155c748>"
      ]
     },
     "metadata": {},
     "output_type": "display_data"
    },
    {
     "data": {
      "image/png": "[encoded data removed]",
      "text/plain": [
       "<matplotlib.figure.Figure at 0x59f72be0>"
      ]
     },
     "metadata": {},
     "output_type": "display_data"
    }
   ],
   "source": [
    "from sklearn.utils import shuffle\n",
    "import numpy as np\n",
    "import cv2 as cv\n",
    "from collections import Counter\n",
    "from random import randint\n",
    "\n",
    "#Image Normalization\n",
    "\n",
    "XRANGE = 255.0\n",
    "XMEAN = 128.0\n",
    "\n",
    "X_train_norm = X_train.astype(np.float32)\n",
    "\n",
    "for i in range(0,X_train.shape[0]):\n",
    "    X_train_norm[i,:,:,0] = (X_train_norm[i,:,:,0])/255.0#(X_train_norm[i,:,:,0]-X_train_r_mean)/255.0\n",
    "    X_train_norm[i,:,:,1] = (X_train_norm[i,:,:,1])/255.0#(X_train_norm[i,:,:,1]-X_train_g_mean)/255.0\n",
    "    X_train_norm[i,:,:,2] = (X_train_norm[i,:,:,2])/255.0#(X_train_norm[i,:,:,2]-X_train_b_mean)/255.0\n",
    "\n",
    "fig = plt.figure()\n",
    "plt1 = plt.subplot(121)\n",
    "plt2 = plt.subplot(122)\n",
    "plt1.imshow(X_train[2000])\n",
    "plt2.imshow(X_train_norm[2000])\n",
    "\n",
    "X_valid_norm = X_valid.astype(np.float32)\n",
    "for i in range(0,X_valid.shape[0]):\n",
    "    X_valid_norm[i,:,:,0] = (X_valid_norm[i,:,:,0])/255.0#(X_train_norm[i,:,:,0]-X_train_r_mean)/255.0\n",
    "    X_valid_norm[i,:,:,1] = (X_valid_norm[i,:,:,1])/255.0#(X_train_norm[i,:,:,1]-X_train_g_mean)/255.0\n",
    "    X_valid_norm[i,:,:,2] = (X_valid_norm[i,:,:,2])/255.0#(X_train_norm[i,:,:,2]-X_train_b_mean)/255.0\n",
    "\n",
    "fig = plt.figure()\n",
    "plt1 = plt.subplot(121)\n",
    "plt2 = plt.subplot(122)\n",
    "plt1.imshow(X_valid[2000])\n",
    "plt2.imshow(X_valid_norm[2000])\n",
    "    \n",
    "X_test_norm = X_test.astype(np.float32)\n",
    "for i in range(0,X_test_norm.shape[0]):\n",
    "    X_test_norm[i,:,:,0] = (X_test_norm[i,:,:,0])/255.0#(X_train_norm[i,:,:,0]-X_train_r_mean)/255.0\n",
    "    X_test_norm[i,:,:,1] = (X_test_norm[i,:,:,1])/255.0#(X_train_norm[i,:,:,1]-X_train_g_mean)/255.0\n",
    "    X_test_norm[i,:,:,2] = (X_test_norm[i,:,:,2])/255.0#(X_train_norm[i,:,:,2]-X_train_b_mean)/255.0\n",
    "\n",
    "fig = plt.figure()\n",
    "plt1 = plt.subplot(121)\n",
    "plt2 = plt.subplot(122)\n",
    "plt1.imshow(X_test[2000])\n",
    "plt2.imshow(X_test_norm[2000])"
   ]
  },
  {
   "cell_type": "code",
   "execution_count": 46,
   "metadata": {
    "collapsed": false,
    "deletable": true,
    "editable": true
   },
   "outputs": [
    {
     "name": "stdout",
     "output_type": "stream",
     "text": [
      "(69598, 32, 32, 3)\n"
     ]
    },
    {
     "data": {
      "image/png": "[encoded data removed]",
      "text/plain": [
       "<matplotlib.figure.Figure at 0x5b0247f0>"
      ]
     },
     "metadata": {},
     "output_type": "display_data"
    }
   ],
   "source": [
    "#Data Augmentation Tests\n",
    "from scipy import ndimage\n",
    "from random import randint\n",
    "\n",
    "fig = plt.figure()\n",
    "\n",
    "plt1 = fig.add_subplot(221)\n",
    "plt2 = fig.add_subplot(222)\n",
    "plt3 = fig.add_subplot(223)\n",
    "plt4 = fig.add_subplot(224)\n",
    "\n",
    "shift1 = randint(-3,3)\n",
    "shift2 = randint(-3,3)\n",
    "M = np.float32([[1,0,shift1],[0,1,shift2]])\n",
    "X_train_translate= np.asarray([cv.warpAffine(im,M,(32,32)) for im in X_train])\n",
    "plt1.imshow(X_train_translate[2000])\n",
    "plt.title('Random Translation Test')\n",
    "\n",
    "X_train_resize = np.asarray([cv.resize(im,None,fx=1.2, fy=1.2, interpolation = cv.INTER_CUBIC) for im in X_train])[:,3:35,3:35,:]\n",
    "plt2.imshow(X_train_resize[2000])\n",
    "plt.title('Resize Test')\n",
    "\n",
    "rotate = 2*randint(-5,5)\n",
    "M = cv.getRotationMatrix2D((16,16),rotate,1)\n",
    "X_train_rotate = np.asarray([cv.warpAffine(im,M,(32,32)) for im in X_train])\n",
    "plt3.imshow(X_train_rotate[2000])\n",
    "plt.title('Random Rotate Test')\n",
    "\n",
    "shear1 = 2*randint(-2,2)\n",
    "shear2 = 2*randint(-2,2)\n",
    "shear3 = 2*randint(-2,2)\n",
    "pts1 = np.float32([[8,8],[24,24],[24,8]])\n",
    "pts2 = np.float32([[8,8+shear1],[24+shear2,24],[24,8+shear3]])\n",
    "M = cv.getAffineTransform(pts1,pts2)\n",
    "X_train_shear_up= np.asarray([cv.warpAffine(im,M,(32,32)) for im in X_train])\n",
    "plt4.imshow(X_train_shear_up[2000])\n",
    "plt.title('Random Shear Test')\n",
    "\n",
    "X_aug_test = np.concatenate((X_train_resize, X_train_translate))\n",
    "\n",
    "print(X_aug_test.shape)"
   ]
  },
  {
   "cell_type": "code",
   "execution_count": 47,
   "metadata": {
    "collapsed": false
   },
   "outputs": [
    {
     "data": {
      "text/plain": [
       "<matplotlib.image.AxesImage at 0xf406be0>"
      ]
     },
     "execution_count": 47,
     "metadata": {},
     "output_type": "execute_result"
    },
    {
     "data": {
      "image/png": "[encoded data removed]",
      "text/plain": [
       "<matplotlib.figure.Figure at 0x8cb14a8>"
      ]
     },
     "metadata": {},
     "output_type": "display_data"
    },
    {
     "data": {
      "image/png": "[encoded data removed]",
      "text/plain": [
       "<matplotlib.figure.Figure at 0xf5eaeb8>"
      ]
     },
     "metadata": {},
     "output_type": "display_data"
    }
   ],
   "source": [
    "#https://medium.com/@vivek.yadav/improved-performance-of-deep-learning-neural-network-models-on-traffic-sign-classification-using-6355346da2dc#.be9chacyf\n",
    "def augment_brightness_camera_images(im):\n",
    "    imHSV = cv.cvtColor(im,cv.COLOR_RGB2HSV)\n",
    "    imHSV = np.array(imHSV, dtype = np.float32)\n",
    "    random_bright = .5+np.random.uniform()\n",
    "    imHSV[:,:,2] = imHSV[:,:,2]*random_bright\n",
    "    imHSV[:,:,2][imHSV[:,:,2]>255]  = 255\n",
    "    imHSV = np.array(imHSV, dtype = np.uint8)\n",
    "    imHSV = cv.cvtColor(imHSV,cv.COLOR_HSV2RGB)\n",
    "    return imHSV\n",
    "\n",
    "def histogram_equalization_RGB(im):\n",
    "    img_yuv = cv.cvtColor(im, cv.COLOR_BGR2YUV)\n",
    "    # equalize the histogram of the Y channel\n",
    "    img_yuv[:,:,0] = cv.equalizeHist(img_yuv[:,:,0])\n",
    "    img_output = cv.cvtColor(img_yuv, cv.COLOR_YUV2BGR)\n",
    "    return img_output\n",
    "\n",
    "#CELL TEST\n",
    "fig = plt.figure()\n",
    "plt1 = plt.subplot(121)\n",
    "plt.title('Color Augmentation Test')\n",
    "plt2 = plt.subplot(122)\n",
    "plt.title('Color Augmentation Test')\n",
    "plt1.imshow(X_train[3479])\n",
    "bright_im = augment_brightness_camera_images(X_train[3479])\n",
    "plt2.imshow(bright_im)\n",
    "fig2 = plt.figure()\n",
    "\n",
    "plt1 = plt.subplot(121)\n",
    "plt.title('Histogram Equalization Test')\n",
    "plt2 = plt.subplot(122)\n",
    "plt.title('Histogram Equalization Test')\n",
    "plt1.imshow(X_train[3479])\n",
    "bright_im = histogram_equalization_RGB(X_train[3479])\n",
    "plt2.imshow(bright_im)"
   ]
  },
  {
   "cell_type": "code",
   "execution_count": 48,
   "metadata": {
    "collapsed": true
   },
   "outputs": [],
   "source": [
    "#Histogram equalization all data\n",
    "X_valid_hist_eq = np.asarray([histogram_equalization_RGB(im) for im in X_valid])\n",
    "X_test_hist_eq = np.asarray([histogram_equalization_RGB(im) for im in X_test])\n",
    "X_train_hist_eq = np.asarray([histogram_equalization_RGB(im) for im in X_train])"
   ]
  },
  {
   "cell_type": "code",
   "execution_count": 49,
   "metadata": {
    "collapsed": false,
    "deletable": true,
    "editable": true
   },
   "outputs": [
    {
     "data": {
      "image/png": "[encoded data removed]",
      "text/plain": [
       "<matplotlib.figure.Figure at 0x8cfa780>"
      ]
     },
     "metadata": {},
     "output_type": "display_data"
    },
    {
     "name": "stdout",
     "output_type": "stream",
     "text": [
      "Standard Deviation of Data: 619.420\n"
     ]
    },
    {
     "data": {
      "image/png": "[encoded data removed]",
      "text/plain": [
       "<matplotlib.figure.Figure at 0xf672b00>"
      ]
     },
     "metadata": {},
     "output_type": "display_data"
    },
    {
     "name": "stdout",
     "output_type": "stream",
     "text": [
      "Standard Deviation of Data: 504.700\n"
     ]
    }
   ],
   "source": [
    "def generate_augmentation(x_t, y_t, y_count):\n",
    "    \n",
    "    x_t_out = np.asarray([im for im in x_t])\n",
    "    \n",
    "    for i in range(0,x_t.shape[0]): \n",
    "        labels, values = zip(*y_count.items())\n",
    "        if(y_counter[y_t[i]] <= np.mean(values)):\n",
    "            aug = randint(0,3)\n",
    "            if(aug == 0): \n",
    "                #shift\n",
    "                shift1 = randint(-3,3)\n",
    "                shift2 = randint(-3,3)\n",
    "                M = np.float32([[1,0,shift1],[0,1,shift2]])\n",
    "                x_t_out[i] = cv.warpAffine(x_t_out[i],M,(32,32))\n",
    "                y_counter[y_t[i]] += 1\n",
    "            elif(aug == 1):\n",
    "                #rotate \n",
    "                rotate = 2*randint(-5,5)\n",
    "                M = cv.getRotationMatrix2D((16,16),rotate,1)\n",
    "                x_t_out[i] = cv.warpAffine(x_t_out[i],M,(32,32))\n",
    "                y_counter[y_t[i]] += 1\n",
    "            elif(aug == 2):\n",
    "                #random shear\n",
    "                shear1 = 2*randint(-2,2)\n",
    "                shear2 = 2*randint(-2,2)\n",
    "                shear3 = 2*randint(-2,2)\n",
    "                pts1 = np.float32([[8,8],[24,24],[24,8]])\n",
    "                pts2 = np.float32([[8,8+shear1],[24+shear2,24],[24,8+shear3]])\n",
    "                M = cv.getAffineTransform(pts1,pts2)\n",
    "                x_t_out[i] = cv.warpAffine(x_t_out[i],M,(32,32))\n",
    "                y_counter[y_t[i]] += 1\n",
    "            else:\n",
    "                #resize\n",
    "                x_t_out[i] = cv.resize(x_t_out[i],None,fx=1.2, fy=1.2, interpolation = cv.INTER_CUBIC)[3:35,3:35,:]\n",
    "                y_counter[y_t[i]] += 1\n",
    "            x_t_out[i] = augment_brightness_camera_images(x_t_out[i])\n",
    "    #plt.imshow(x_t_out[2000])\n",
    "    return (x_t_out, y_t)\n",
    "\n",
    "\n",
    "#CELL TEST\n",
    "y_counter = Counter()\n",
    "\n",
    "for i in y_train:\n",
    "    y_counter[i] += 1\n",
    "\n",
    "labels, values = zip(*y_counter.items())\n",
    "indexes = np.arange(len(labels))\n",
    "width = 1\n",
    "fig = plt.figure()\n",
    "plt.bar(indexes, values, width)\n",
    "plt.show()\n",
    "print('Standard Deviation of Data: {:.3f}'.format(np.std(values)))\n",
    "\n",
    "X_aug,y_aug = generate_augmentation(X_train, y_train, y_counter)\n",
    "#X_aug,y_aug = generate_augmentation(X_train, y_train, y_counter)\n",
    "#X_aug,y_aug = generate_augmentation(X_train, y_train, y_counter)\n",
    "#X_aug,y_aug = generate_augmentation(X_train, y_train, y_counter)\n",
    "\n",
    "labels, values = zip(*y_counter.items())\n",
    "indexes = np.arange(len(labels))\n",
    "width = 1\n",
    "fig = plt.figure()\n",
    "plt.bar(indexes, values, width)\n",
    "plt.show()\n",
    "print('Standard Deviation of Data: {:.3f}'.format(np.std(values)))"
   ]
  },
  {
   "cell_type": "markdown",
   "metadata": {
    "deletable": true,
    "editable": true
   },
   "source": [
    "### Model Architecture"
   ]
  },
  {
   "cell_type": "code",
   "execution_count": 50,
   "metadata": {
    "collapsed": false,
    "deletable": true,
    "editable": true
   },
   "outputs": [],
   "source": [
    "import tensorflow as tf\n",
    "from tensorflow.contrib.layers import flatten\n",
    "\n",
    "EPOCHS = 40\n",
    "BATCH_SIZE = 512\n",
    "\n",
    "def Modified_LeNet(x):\n",
    "    mu = 0\n",
    "    dropout = 0.5\n",
    "\n",
    "    # 32x32x3\n",
    "    sqrt6 = np.sqrt(6)\n",
    "    imShape = x.shape[1]*x.shape[2]\n",
    "    \n",
    "    shape1 = (3,3,3,12)\n",
    "    sz = int(imShape*3+imShape*12)\n",
    "    #sigma = sqrt2/int(np.sqrt(sz))\n",
    "    weights1 = tf.Variable(tf.random_uniform(shape=shape1, minval=-sqrt6/np.sqrt(sz), maxval=sqrt6/np.sqrt(sz)))\n",
    "    #weights1 = tf.Variable(tf.truncated_normal([3,3,3,12],mean=mu,stddev=sigma))\n",
    "    bias1 = tf.Variable(tf.zeros([12]))\n",
    "    conv1 = tf.nn.conv2d(x,weights1, strides=[1,1,1,1], padding='SAME')\n",
    "    conv1 = tf.nn.bias_add(conv1,bias1)\n",
    "    conv1 = tf.nn.relu(conv1)\n",
    "    #conv1 = tf.nn.dropout(conv1, dropout)\n",
    "    \n",
    "    pool1 = tf.nn.max_pool(conv1, ksize=[1,2,2,1], strides=[1,2,2,1], padding='VALID')                       \n",
    "    \n",
    "    #16x16x12\n",
    "    shape2 =[3,3,12,24]\n",
    "    sz = int(imShape*12+imShape*24)\n",
    "    #sigma = sqrt2/int(np.sqrt(sz))\n",
    "    weights2 = tf.Variable(tf.random_uniform(shape=shape2, minval=-sqrt6/np.sqrt(sz), maxval=sqrt6/np.sqrt(sz)))\n",
    "    #weights2 = tf.Variable(tf.truncated_normal([3,3,12,24],mean=mu,stddev=sigma))\n",
    "    bias2 = tf.Variable(tf.zeros([24]))\n",
    "    conv2 = tf.nn.conv2d(pool1, weights2, strides=[1,1,1,1], padding='SAME')\n",
    "    conv2 = tf.nn.bias_add(conv2, bias2)                \n",
    "    conv2 = tf.nn.relu(conv2) \n",
    "    #conv2 = tf.nn.dropout(conv2, dropout)\n",
    "    \n",
    "    pool2 = tf.nn.max_pool(conv2, ksize=[1,2,2,1], strides=[1,2,2,1], padding='VALID')\n",
    "    \n",
    "    #8x8x24\n",
    "    shape2_c =[3,3,24,48]\n",
    "    sz = int(imShape*24+imShape*48)\n",
    "    #sigma = sqrt2/np.sqrt(sz)\n",
    "    weights2_c = tf.Variable(tf.random_uniform(shape=shape2_c, minval= -sqrt6/np.sqrt(sz), maxval=sqrt6/np.sqrt(sz)))\n",
    "    #weights2_c = tf.Variable(tf.truncated_normal([3,3,24,48],mean=mu,stddev=sigma))\n",
    "    bias2_c = tf.Variable(tf.zeros([48]))\n",
    "    conv2_c = tf.nn.conv2d(pool2, weights2_c, strides=[1,1,1,1], padding='SAME')\n",
    "    conv2_c = tf.nn.bias_add(conv2_c, bias2_c)                \n",
    "    conv2_c = tf.nn.relu(conv2_c)\n",
    "    #conv2_c = tf.nn.dropout(conv2_c, dropout)\n",
    "\n",
    "    pool2_c = tf.nn.max_pool(conv2_c, ksize=[1,2,2,1], strides=[1,2,2,1], padding='VALID')\n",
    "\n",
    "    #4x4x48\n",
    "    flat=tf.contrib.layers.flatten(pool2_c)\n",
    "    \n",
    "    shape3 =[768,768]\n",
    "    sz = int(shape3[0]+shape3[1])\n",
    "    #sigma = sqrt2/np.sqrt(sz)\n",
    "    weights3 = tf.Variable(tf.random_uniform(shape=shape3, minval= -sqrt6/np.sqrt(sz), maxval=sqrt6/np.sqrt(sz)))\n",
    "    #weights3 = tf.Variable(tf.truncated_normal([768,768],mean=mu,stddev=sigma))\n",
    "    bias3 = tf.Variable(tf.zeros([768]))                       \n",
    "    fc3 = tf.add(tf.matmul(flat, weights3),bias3)\n",
    "    fc3 = tf.nn.relu(fc3)\n",
    "    #fc3 = tf.nn.dropout(fc3,dropout)\n",
    "\n",
    "    shape4 =[768,43]\n",
    "    sz = int(shape4[0]+shape4[1])\n",
    "    #sigma = sqrt2/np.sqrt(sz)\n",
    "    weights4 = tf.Variable(tf.random_uniform(shape=shape4, minval= -sqrt6/np.sqrt(sz), maxval=sqrt6/np.sqrt(sz)))\n",
    "    #weights4 = tf.Variable(tf.truncated_normal([768,43],mean=mu,stddev=sigma))\n",
    "    bias4 = tf.Variable(tf.zeros([43]))                       \n",
    "    logits = tf.add(tf.matmul(fc3, weights4),bias4)\n",
    "    #fc4 = tf.nn.relu(fc4)\n",
    "\n",
    "    #shape5 =[768,43]\n",
    "    #sz = int(shape5[0]+shape5[1])\n",
    "    #sigma = sqrt2/np.sqrt(sz)\n",
    "    #weights5 = tf.Variable(tf.random_uniform(shape=shape5, minval= -sqrt6/np.sqrt(sz), maxval=sqrt6/np.sqrt(sz)))\n",
    "    #weights5 = tf.Variable(tf.truncated_normal([768,43],mean=mu,stddev=sigma))\n",
    "    #bias5 = tf.Variable(tf.zeros([43]))                       \n",
    "    #logits = tf.add(tf.matmul(fc4, weights5),bias5)\n",
    "    return logits\n",
    "\n",
    "x = tf.placeholder(tf.float32, (None,32,32,3))\n",
    "y = tf.placeholder(tf.int32,(None))\n",
    "one_hot_y = tf.one_hot(y,n_classes)"
   ]
  },
  {
   "cell_type": "markdown",
   "metadata": {
    "deletable": true,
    "editable": true
   },
   "source": [
    "### Train, Validate and Test the Model"
   ]
  },
  {
   "cell_type": "markdown",
   "metadata": {
    "deletable": true,
    "editable": true
   },
   "source": [
    "A validation set can be used to assess how well the model is performing. A low accuracy on the training and validation\n",
    "sets imply underfitting. A high accuracy on the training set but low accuracy on the validation set implies overfitting."
   ]
  },
  {
   "cell_type": "code",
   "execution_count": 51,
   "metadata": {
    "collapsed": false,
    "deletable": true,
    "editable": true
   },
   "outputs": [],
   "source": [
    "rate = 0.001\n",
    "\n",
    "my_logits = Modified_LeNet(x)\n",
    "cross_entropy = tf.nn.softmax_cross_entropy_with_logits(logits=my_logits, labels=one_hot_y)\n",
    "loss_operation = tf.reduce_mean(cross_entropy)\n",
    "optimizer = tf.train.AdamOptimizer(learning_rate = rate)\n",
    "training_operation = optimizer.minimize(loss_operation)\n",
    "\n",
    "### Train your model here.\n",
    "### Calculate and report the accuracy on the training and validation set.\n",
    "### Once a final model architecture is selected, \n",
    "### the accuracy on the test set should be calculated and reported as well.\n",
    "### Feel free to use as many code cells as needed."
   ]
  },
  {
   "cell_type": "code",
   "execution_count": 52,
   "metadata": {
    "collapsed": false,
    "deletable": true,
    "editable": true
   },
   "outputs": [],
   "source": [
    "correct_prediction = tf.equal(tf.argmax(my_logits,1), tf.argmax(one_hot_y, 1))\n",
    "accuracy_operation = tf.reduce_mean(tf.cast(correct_prediction, tf.float32))\n",
    "saver =tf.train.Saver()\n",
    "\n",
    "def evaluate(X_data,y_data):\n",
    "    num_examples = len(X_data)\n",
    "    total_accuracy = 0\n",
    "    tf.get_default_session()\n",
    "    for offset in range(0, num_examples, BATCH_SIZE):\n",
    "        batch_x, batch_y = X_data[offset:offset+BATCH_SIZE], y_data[offset:offset+BATCH_SIZE]\n",
    "        accuracy = sess.run(accuracy_operation, feed_dict={x:batch_x, y:batch_y})\n",
    "        total_accuracy += (accuracy * len(batch_x))\n",
    "    return total_accuracy/num_examples\n"
   ]
  },
  {
   "cell_type": "code",
   "execution_count": 53,
   "metadata": {
    "collapsed": false,
    "deletable": true,
    "editable": true,
    "scrolled": true
   },
   "outputs": [
    {
     "name": "stdout",
     "output_type": "stream",
     "text": [
      "Training...\n",
      "Standard Deviation of Data: 619.420\n",
      "\n",
      "EPOCH 1 ...\n",
      "Training Accuracy = 0.527\n",
      "Validation Accuracy = 0.449\n",
      "Standard Deviation of Data: 503.100\n",
      "\n",
      "EPOCH 2 ...\n",
      "Training Accuracy = 0.830\n",
      "Validation Accuracy = 0.673\n",
      "Standard Deviation of Data: 410.128\n",
      "\n",
      "EPOCH 3 ...\n",
      "Training Accuracy = 0.908\n",
      "Validation Accuracy = 0.767\n",
      "Standard Deviation of Data: 334.358\n",
      "\n",
      "EPOCH 4 ...\n",
      "Training Accuracy = 0.951\n",
      "Validation Accuracy = 0.795\n",
      "Standard Deviation of Data: 268.972\n",
      "\n",
      "EPOCH 5 ...\n",
      "Training Accuracy = 0.969\n",
      "Validation Accuracy = 0.828\n",
      "Standard Deviation of Data: 209.299\n",
      "\n",
      "EPOCH 6 ...\n",
      "Training Accuracy = 0.981\n",
      "Validation Accuracy = 0.839\n",
      "Standard Deviation of Data: 154.992\n",
      "\n",
      "EPOCH 7 ...\n",
      "Training Accuracy = 0.988\n",
      "Validation Accuracy = 0.844\n",
      "Standard Deviation of Data: 106.545\n",
      "\n",
      "EPOCH 8 ...\n",
      "Training Accuracy = 0.992\n",
      "Validation Accuracy = 0.846\n",
      "Standard Deviation of Data: 67.858\n",
      "\n",
      "EPOCH 9 ...\n",
      "Training Accuracy = 0.988\n",
      "Validation Accuracy = 0.849\n",
      "Standard Deviation of Data: 33.263\n",
      "\n",
      "EPOCH 10 ...\n",
      "Training Accuracy = 0.994\n",
      "Validation Accuracy = 0.862\n",
      "Standard Deviation of Data: 3.974\n",
      "\n",
      "EPOCH 11 ...\n",
      "Training Accuracy = 0.994\n",
      "Validation Accuracy = 0.854\n",
      "Standard Deviation of Data: 0.449\n",
      "\n",
      "EPOCH 12 ...\n",
      "Training Accuracy = 0.996\n",
      "Validation Accuracy = 0.882\n",
      "Standard Deviation of Data: 0.321\n",
      "\n",
      "EPOCH 13 ...\n",
      "Training Accuracy = 0.998\n",
      "Validation Accuracy = 0.884\n",
      "Standard Deviation of Data: 0.347\n",
      "\n",
      "EPOCH 14 ...\n",
      "Training Accuracy = 0.997\n",
      "Validation Accuracy = 0.878\n",
      "Standard Deviation of Data: 0.483\n",
      "\n",
      "EPOCH 15 ...\n",
      "Training Accuracy = 0.997\n",
      "Validation Accuracy = 0.891\n",
      "Standard Deviation of Data: 0.255\n",
      "\n",
      "EPOCH 16 ...\n",
      "Training Accuracy = 0.995\n",
      "Validation Accuracy = 0.888\n",
      "Standard Deviation of Data: 0.151\n",
      "\n",
      "EPOCH 17 ...\n",
      "Training Accuracy = 0.997\n",
      "Validation Accuracy = 0.880\n",
      "Standard Deviation of Data: 0.211\n",
      "\n",
      "EPOCH 18 ...\n",
      "Training Accuracy = 0.999\n",
      "Validation Accuracy = 0.888\n",
      "Standard Deviation of Data: 0.469\n",
      "\n",
      "EPOCH 19 ...\n",
      "Training Accuracy = 0.997\n",
      "Validation Accuracy = 0.888\n",
      "Standard Deviation of Data: 503.100\n",
      "\n",
      "EPOCH 20 ...\n",
      "Training Accuracy = 0.997\n",
      "Validation Accuracy = 0.884\n",
      "Standard Deviation of Data: 410.128\n",
      "\n",
      "EPOCH 21 ...\n",
      "Training Accuracy = 0.998\n",
      "Validation Accuracy = 0.891\n",
      "Standard Deviation of Data: 334.358\n",
      "\n",
      "EPOCH 22 ...\n",
      "Training Accuracy = 0.998\n",
      "Validation Accuracy = 0.902\n",
      "Standard Deviation of Data: 268.972\n",
      "\n",
      "EPOCH 23 ...\n",
      "Training Accuracy = 0.999\n",
      "Validation Accuracy = 0.911\n",
      "Standard Deviation of Data: 209.298\n",
      "\n",
      "EPOCH 24 ...\n",
      "Training Accuracy = 0.999\n",
      "Validation Accuracy = 0.906\n",
      "Standard Deviation of Data: 154.992\n",
      "\n",
      "EPOCH 25 ...\n",
      "Training Accuracy = 0.997\n",
      "Validation Accuracy = 0.905\n",
      "Standard Deviation of Data: 106.545\n",
      "\n",
      "EPOCH 26 ...\n",
      "Training Accuracy = 0.999\n",
      "Validation Accuracy = 0.912\n",
      "Standard Deviation of Data: 67.859\n",
      "\n",
      "EPOCH 27 ...\n",
      "Training Accuracy = 0.999\n",
      "Validation Accuracy = 0.917\n",
      "Standard Deviation of Data: 33.262\n",
      "\n",
      "EPOCH 28 ...\n",
      "Training Accuracy = 0.998\n",
      "Validation Accuracy = 0.909\n",
      "Standard Deviation of Data: 3.992\n",
      "\n",
      "EPOCH 29 ...\n",
      "Training Accuracy = 0.997\n",
      "Validation Accuracy = 0.894\n",
      "Standard Deviation of Data: 0.211\n",
      "\n",
      "EPOCH 30 ...\n",
      "Training Accuracy = 1.000\n",
      "Validation Accuracy = 0.929\n",
      "Standard Deviation of Data: 0.211\n",
      "\n",
      "EPOCH 31 ...\n",
      "Training Accuracy = 0.999\n",
      "Validation Accuracy = 0.903\n",
      "Standard Deviation of Data: 0.151\n",
      "\n",
      "EPOCH 32 ...\n",
      "Training Accuracy = 0.998\n",
      "Validation Accuracy = 0.906\n",
      "Standard Deviation of Data: 0.211\n",
      "\n",
      "EPOCH 33 ...\n",
      "Training Accuracy = 0.999\n",
      "Validation Accuracy = 0.917\n",
      "Standard Deviation of Data: 0.151\n",
      "\n",
      "EPOCH 34 ...\n",
      "Training Accuracy = 0.999\n",
      "Validation Accuracy = 0.914\n",
      "Standard Deviation of Data: 0.290\n",
      "\n",
      "EPOCH 35 ...\n",
      "Training Accuracy = 0.994\n",
      "Validation Accuracy = 0.904\n",
      "Standard Deviation of Data: 0.449\n",
      "\n",
      "EPOCH 36 ...\n",
      "Training Accuracy = 0.999\n",
      "Validation Accuracy = 0.917\n",
      "Standard Deviation of Data: 0.211\n",
      "\n",
      "EPOCH 37 ...\n",
      "Training Accuracy = 0.999\n",
      "Validation Accuracy = 0.920\n",
      "Standard Deviation of Data: 503.100\n",
      "\n",
      "EPOCH 38 ...\n",
      "Training Accuracy = 0.999\n",
      "Validation Accuracy = 0.915\n",
      "Standard Deviation of Data: 410.128\n",
      "\n",
      "EPOCH 39 ...\n",
      "Training Accuracy = 0.997\n",
      "Validation Accuracy = 0.904\n",
      "Standard Deviation of Data: 334.358\n",
      "\n",
      "EPOCH 40 ...\n",
      "Training Accuracy = 0.998\n",
      "Validation Accuracy = 0.901\n",
      "Standard Deviation of Data: 268.972\n",
      "\n",
      "Model saved\n",
      "Standard Deviation of Data: 268.972\n"
     ]
    }
   ],
   "source": [
    "with tf.Session() as sess:\n",
    "    sess.run(tf.global_variables_initializer())\n",
    "    num_examples = len(X_train)\n",
    "    \n",
    "    print(\"Training...\")\n",
    "    y_counter = Counter()\n",
    "    for i in y_train:\n",
    "        y_counter[i] += 1\n",
    "    \n",
    "    labels, values = zip(*y_counter.items())\n",
    "    #indexes = np.arange(len(labels))\n",
    "    #width = 1\n",
    "    #fig = plt.figure()\n",
    "    #plt.bar(indexes, values, width)\n",
    "    #plt.show()\n",
    "    print('Standard Deviation of Data: {:.3f}'.format(np.std(values)))\n",
    "    print()\n",
    "    for i in range(EPOCHS):\n",
    "        X_train, y_train = shuffle(X_train, y_train)\n",
    "        for offset in range(0, num_examples, BATCH_SIZE):\n",
    "            end = offset + BATCH_SIZE\n",
    "            batch_x, batch_y = generate_augmentation(X_train[offset:end], y_train[offset:end],y_counter)\n",
    "            sess.run(training_operation, feed_dict={x:batch_x,y:batch_y})\n",
    "            \n",
    "        validation_accuracy = evaluate(X_valid, y_valid)\n",
    "        train_accuracy = evaluate(X_train, y_train)\n",
    "        print(\"EPOCH {} ...\".format(i+1))\n",
    "        print(\"Training Accuracy = {:.3f}\".format(train_accuracy))\n",
    "        print(\"Validation Accuracy = {:.3f}\".format(validation_accuracy))\n",
    "        labels, values = zip(*y_counter.items())\n",
    "        print('Standard Deviation of Data: {:.3f}'.format(np.std(values)))\n",
    "        print()\n",
    "        if(np.std(values) < 20 and max(values) > 2500):\n",
    "            y_counter = Counter()\n",
    "            for i in y_train:\n",
    "                y_counter[i] += 1\n",
    "        \n",
    "    saver.save(sess, './lenet')\n",
    "    print(\"Model saved\")\n",
    "    #labels, values = zip(*y_counter.items())\n",
    "    #indexes = np.arange(len(labels))\n",
    "    #width = 1\n",
    "    #fig = plt.figure()\n",
    "    #plt.bar(indexes, values, width)\n",
    "    #plt.show()\n",
    "    print('Standard Deviation of Data: {:.3f}'.format(np.std(values)))\n",
    "\n"
   ]
  },
  {
   "cell_type": "markdown",
   "metadata": {
    "deletable": true,
    "editable": true
   },
   "source": [
    "---\n",
    "\n",
    "## Step 3: Test a Model on New Images\n",
    "\n",
    "To give yourself more insight into how your model is working, download at least five pictures of German traffic signs from the web and use your model to predict the traffic sign type.\n",
    "\n",
    "You may find `signnames.csv` useful as it contains mappings from the class id (integer) to the actual sign name."
   ]
  },
  {
   "cell_type": "markdown",
   "metadata": {
    "deletable": true,
    "editable": true
   },
   "source": [
    "### Load and Output the Images"
   ]
  },
  {
   "cell_type": "code",
   "execution_count": 37,
   "metadata": {
    "collapsed": true,
    "deletable": true,
    "editable": true
   },
   "outputs": [],
   "source": [
    "### Load the images and plot them here.\n",
    "### Feel free to use as many code cells as needed."
   ]
  },
  {
   "cell_type": "markdown",
   "metadata": {
    "deletable": true,
    "editable": true
   },
   "source": [
    "### Predict the Sign Type for Each Image"
   ]
  },
  {
   "cell_type": "code",
   "execution_count": 54,
   "metadata": {
    "collapsed": false,
    "deletable": true,
    "editable": true
   },
   "outputs": [
    {
     "name": "stdout",
     "output_type": "stream",
     "text": [
      "Test Accuracy = 0.926\n"
     ]
    }
   ],
   "source": [
    "### Run the predictions here and use the model to output the prediction for each image.\n",
    "### Make sure to pre-process the images with the same pre-processing pipeline used earlier.\n",
    "### Feel free to use as many code cells as needed.\n",
    "\n",
    "with tf.Session() as sess:\n",
    "    saver.restore(sess, tf.train.latest_checkpoint('.'))\n",
    "\n",
    "    test_accuracy = evaluate(X_test, y_test)\n",
    "    print(\"Test Accuracy = {:.3f}\".format(test_accuracy))"
   ]
  },
  {
   "cell_type": "markdown",
   "metadata": {
    "deletable": true,
    "editable": true
   },
   "source": [
    "### Analyze Performance"
   ]
  },
  {
   "cell_type": "code",
   "execution_count": null,
   "metadata": {
    "collapsed": true,
    "deletable": true,
    "editable": true
   },
   "outputs": [],
   "source": [
    "### Calculate the accuracy for these 5 new images. \n",
    "### For example, if the model predicted 1 out of 5 signs correctly, it's 20% accurate on these new images."
   ]
  },
  {
   "cell_type": "markdown",
   "metadata": {
    "deletable": true,
    "editable": true
   },
   "source": [
    "### Output Top 5 Softmax Probabilities For Each Image Found on the Web"
   ]
  },
  {
   "cell_type": "markdown",
   "metadata": {
    "deletable": true,
    "editable": true
   },
   "source": [
    "For each of the new images, print out the model's softmax probabilities to show the **certainty** of the model's predictions (limit the output to the top 5 probabilities for each image). [`tf.nn.top_k`](https://www.tensorflow.org/versions/r0.12/api_docs/python/nn.html#top_k) could prove helpful here. \n",
    "\n",
    "The example below demonstrates how tf.nn.top_k can be used to find the top k predictions for each image.\n",
    "\n",
    "`tf.nn.top_k` will return the values and indices (class ids) of the top k predictions. So if k=3, for each sign, it'll return the 3 largest probabilities (out of a possible 43) and the correspoding class ids.\n",
    "\n",
    "Take this numpy array as an example. The values in the array represent predictions. The array contains softmax probabilities for five candidate images with six possible classes. `tk.nn.top_k` is used to choose the three classes with the highest probability:\n",
    "\n",
    "```\n",
    "# (5, 6) array\n",
    "a = np.array([[ 0.24879643,  0.07032244,  0.12641572,  0.34763842,  0.07893497,\n",
    "         0.12789202],\n",
    "       [ 0.28086119,  0.27569815,  0.08594638,  0.0178669 ,  0.18063401,\n",
    "         0.15899337],\n",
    "       [ 0.26076848,  0.23664738,  0.08020603,  0.07001922,  0.1134371 ,\n",
    "         0.23892179],\n",
    "       [ 0.11943333,  0.29198961,  0.02605103,  0.26234032,  0.1351348 ,\n",
    "         0.16505091],\n",
    "       [ 0.09561176,  0.34396535,  0.0643941 ,  0.16240774,  0.24206137,\n",
    "         0.09155967]])\n",
    "```\n",
    "\n",
    "Running it through `sess.run(tf.nn.top_k(tf.constant(a), k=3))` produces:\n",
    "\n",
    "```\n",
    "TopKV2(values=array([[ 0.34763842,  0.24879643,  0.12789202],\n",
    "       [ 0.28086119,  0.27569815,  0.18063401],\n",
    "       [ 0.26076848,  0.23892179,  0.23664738],\n",
    "       [ 0.29198961,  0.26234032,  0.16505091],\n",
    "       [ 0.34396535,  0.24206137,  0.16240774]]), indices=array([[3, 0, 5],\n",
    "       [0, 1, 4],\n",
    "       [0, 5, 1],\n",
    "       [1, 3, 5],\n",
    "       [1, 4, 3]], dtype=int32))\n",
    "```\n",
    "\n",
    "Looking just at the first row we get `[ 0.34763842,  0.24879643,  0.12789202]`, you can confirm these are the 3 largest probabilities in `a`. You'll also notice `[3, 0, 5]` are the corresponding indices."
   ]
  },
  {
   "cell_type": "code",
   "execution_count": null,
   "metadata": {
    "collapsed": true,
    "deletable": true,
    "editable": true
   },
   "outputs": [],
   "source": [
    "### Print out the top five softmax probabilities for the predictions on the German traffic sign images found on the web. \n",
    "### Feel free to use as many code cells as needed."
   ]
  },
  {
   "cell_type": "markdown",
   "metadata": {
    "deletable": true,
    "editable": true
   },
   "source": [
    "---\n",
    "\n",
    "## Step 4: Visualize the Neural Network's State with Test Images\n",
    "\n",
    " This Section is not required to complete but acts as an additional excersise for understaning the output of a neural network's weights. While neural networks can be a great learning device they are often referred to as a black box. We can understand what the weights of a neural network look like better by plotting their feature maps. After successfully training your neural network you can see what it's feature maps look like by plotting the output of the network's weight layers in response to a test stimuli image. From these plotted feature maps, it's possible to see what characteristics of an image the network finds interesting. For a sign, maybe the inner network feature maps react with high activation to the sign's boundary outline or to the contrast in the sign's painted symbol.\n",
    "\n",
    " Provided for you below is the function code that allows you to get the visualization output of any tensorflow weight layer you want. The inputs to the function should be a stimuli image, one used during training or a new one you provided, and then the tensorflow variable name that represents the layer's state during the training process, for instance if you wanted to see what the [LeNet lab's](https://classroom.udacity.com/nanodegrees/nd013/parts/fbf77062-5703-404e-b60c-95b78b2f3f9e/modules/6df7ae49-c61c-4bb2-a23e-6527e69209ec/lessons/601ae704-1035-4287-8b11-e2c2716217ad/concepts/d4aca031-508f-4e0b-b493-e7b706120f81) feature maps looked like for it's second convolutional layer you could enter conv2 as the tf_activation variable.\n",
    "\n",
    "For an example of what feature map outputs look like, check out NVIDIA's results in their paper [End-to-End Deep Learning for Self-Driving Cars](https://devblogs.nvidia.com/parallelforall/deep-learning-self-driving-cars/) in the section Visualization of internal CNN State. NVIDIA was able to show that their network's inner weights had high activations to road boundary lines by comparing feature maps from an image with a clear path to one without. Try experimenting with a similar test to show that your trained network's weights are looking for interesting features, whether it's looking at differences in feature maps from images with or without a sign, or even what feature maps look like in a trained network vs a completely untrained one on the same sign image.\n",
    "\n",
    "<figure>\n",
    " <img src=\"visualize_cnn.png\" width=\"380\" alt=\"Combined Image\" />\n",
    " <figcaption>\n",
    " <p></p> \n",
    " <p style=\"text-align: center;\"> Your output should look something like this (above)</p> \n",
    " </figcaption>\n",
    "</figure>\n",
    " <p></p> \n"
   ]
  },
  {
   "cell_type": "code",
   "execution_count": null,
   "metadata": {
    "collapsed": true,
    "deletable": true,
    "editable": true
   },
   "outputs": [],
   "source": [
    "### Visualize your network's feature maps here.\n",
    "### Feel free to use as many code cells as needed.\n",
    "\n",
    "# image_input: the test image being fed into the network to produce the feature maps\n",
    "# tf_activation: should be a tf variable name used during your training procedure that represents the calculated state of a specific weight layer\n",
    "# activation_min/max: can be used to view the activation contrast in more detail, by default matplot sets min and max to the actual min and max values of the output\n",
    "# plt_num: used to plot out multiple different weight feature map sets on the same block, just extend the plt number for each new feature map entry\n",
    "\n",
    "def outputFeatureMap(image_input, tf_activation, activation_min=-1, activation_max=-1 ,plt_num=1):\n",
    "    # Here make sure to preprocess your image_input in a way your network expects\n",
    "    # with size, normalization, ect if needed\n",
    "    # image_input =\n",
    "    # Note: x should be the same name as your network's tensorflow data placeholder variable\n",
    "    # If you get an error tf_activation is not defined it maybe having trouble accessing the variable from inside a function\n",
    "    activation = tf_activation.eval(session=sess,feed_dict={x : image_input})\n",
    "    featuremaps = activation.shape[3]\n",
    "    plt.figure(plt_num, figsize=(15,15))\n",
    "    for featuremap in range(featuremaps):\n",
    "        plt.subplot(6,8, featuremap+1) # sets the number of feature maps to show on each row and column\n",
    "        plt.title('FeatureMap ' + str(featuremap)) # displays the feature map number\n",
    "        if activation_min != -1 & activation_max != -1:\n",
    "            plt.imshow(activation[0,:,:, featuremap], interpolation=\"nearest\", vmin =activation_min, vmax=activation_max, cmap=\"gray\")\n",
    "        elif activation_max != -1:\n",
    "            plt.imshow(activation[0,:,:, featuremap], interpolation=\"nearest\", vmax=activation_max, cmap=\"gray\")\n",
    "        elif activation_min !=-1:\n",
    "            plt.imshow(activation[0,:,:, featuremap], interpolation=\"nearest\", vmin=activation_min, cmap=\"gray\")\n",
    "        else:\n",
    "            plt.imshow(activation[0,:,:, featuremap], interpolation=\"nearest\", cmap=\"gray\")"
   ]
  },
  {
   "cell_type": "markdown",
   "metadata": {
    "deletable": true,
    "editable": true
   },
   "source": [
    "### Question 9\n",
    "\n",
    "Discuss how you used the visual output of your trained network's feature maps to show that it had learned to look for interesting characteristics in traffic sign images\n"
   ]
  },
  {
   "cell_type": "markdown",
   "metadata": {
    "deletable": true,
    "editable": true
   },
   "source": [
    "**Answer:**"
   ]
  },
  {
   "cell_type": "markdown",
   "metadata": {
    "deletable": true,
    "editable": true
   },
   "source": [
    "> **Note**: Once you have completed all of the code implementations and successfully answered each question above, you may finalize your work by exporting the iPython Notebook as an HTML document. You can do this by using the menu above and navigating to  \\n\",\n",
    "    \"**File -> Download as -> HTML (.html)**. Include the finished document along with this notebook as your submission."
   ]
  },
  {
   "cell_type": "markdown",
   "metadata": {
    "deletable": true,
    "editable": true
   },
   "source": [
    "### Project Writeup\n",
    "\n",
    "Once you have completed the code implementation, document your results in a project writeup using this [template](https://github.com/udacity/CarND-Traffic-Sign-Classifier-Project/blob/master/writeup_template.md) as a guide. The writeup can be in a markdown or pdf file. "
   ]
  }
 ],
 "metadata": {
  "anaconda-cloud": {},
  "kernelspec": {
   "display_name": "Python 3",
   "language": "python",
   "name": "python3"
  },
  "language_info": {
   "codemirror_mode": {
    "name": "ipython",
    "version": 3
   },
   "file_extension": ".py",
   "mimetype": "text/x-python",
   "name": "python",
   "nbconvert_exporter": "python",
   "pygments_lexer": "ipython3",
   "version": "3.5.2"
  }
 },
 "nbformat": 4,
 "nbformat_minor": 1
}

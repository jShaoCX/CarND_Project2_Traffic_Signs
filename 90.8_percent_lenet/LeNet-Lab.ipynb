{
 "cells": [
  {
   "cell_type": "markdown",
   "metadata": {
    "deletable": true,
    "editable": true
   },
   "source": [
    "# LeNet Lab\n",
    "![LeNet Architecture](lenet.png)\n",
    "Source: Yan LeCun"
   ]
  },
  {
   "cell_type": "markdown",
   "metadata": {
    "deletable": true,
    "editable": true
   },
   "source": [
    "## Load Data\n",
    "\n",
    "Load the MNIST data, which comes pre-loaded with TensorFlow.\n",
    "\n",
    "You do not need to modify this section."
   ]
  },
  {
   "cell_type": "code",
   "execution_count": 1,
   "metadata": {
    "collapsed": false,
    "deletable": true,
    "editable": true
   },
   "outputs": [],
   "source": [
    "# Load pickled data\n",
    "import pickle\n",
    "\n",
    "# TODO: Fill this in based on where you saved the training and testing data\n",
    "\n",
    "training_file = './traffic-signs-data/train.p'\n",
    "validation_file='./traffic-signs-data/valid.p'\n",
    "testing_file = './traffic-signs-data/test.p'\n",
    "\n",
    "with open(training_file, mode='rb') as f:\n",
    "    train = pickle.load(f)\n",
    "with open(validation_file, mode='rb') as f:\n",
    "    valid = pickle.load(f)\n",
    "with open(testing_file, mode='rb') as f:\n",
    "    test = pickle.load(f)\n",
    "    \n",
    "X_train, y_train = train['features'], train['labels']\n",
    "X_valid, y_valid = valid['features'], valid['labels']\n",
    "X_test, y_test = test['features'], test['labels']"
   ]
  },
  {
   "cell_type": "markdown",
   "metadata": {
    "deletable": true,
    "editable": true
   },
   "source": [
    "The MNIST data that TensorFlow pre-loads comes as 28x28x1 images.\n",
    "\n",
    "However, the LeNet architecture only accepts 32x32xC images, where C is the number of color channels.\n",
    "\n",
    "In order to reformat the MNIST data into a shape that LeNet will accept, we pad the data with two rows of zeros on the top and bottom, and two columns of zeros on the left and right (28+2+2 = 32).\n",
    "\n",
    "You do not need to modify this section."
   ]
  },
  {
   "cell_type": "code",
   "execution_count": 15,
   "metadata": {
    "collapsed": false,
    "deletable": true,
    "editable": true
   },
   "outputs": [],
   "source": [
    "import numpy as np\n",
    "\n",
    "from sklearn.utils import shuffle\n",
    "import numpy as np\n",
    "import cv2 as cv\n",
    "from collections import Counter\n",
    "from random import randint\n",
    "\n",
    "#Image Normalization\n",
    "\n",
    "XRANGE = 255.0\n",
    "XMEAN = 128.0\n",
    "\n",
    "def normalize_data(x):\n",
    "    x_out = np.array(x,dtype=np.float32)\n",
    "\n",
    "    for i in range(0,x.shape[0]):\n",
    "        x_out[i,:,:,0] = (x_out[i,:,:,0])/255.0\n",
    "        x_out[i,:,:,1] = (x_out[i,:,:,1])/255.0\n",
    "        x_out[i,:,:,2] = (x_out[i,:,:,2])/255.0\n",
    "    return x_out\n",
    "\n",
    "X_train_norm = normalize_data(X_train)\n",
    "X_valid_norm = normalize_data(X_valid)\n",
    "X_test_norm = normalize_data(X_test)"
   ]
  },
  {
   "cell_type": "markdown",
   "metadata": {
    "deletable": true,
    "editable": true
   },
   "source": [
    "## Visualize Data\n",
    "\n",
    "View a sample from the dataset.\n",
    "\n",
    "You do not need to modify this section."
   ]
  },
  {
   "cell_type": "code",
   "execution_count": 3,
   "metadata": {
    "collapsed": false,
    "deletable": true,
    "editable": true
   },
   "outputs": [
    {
     "name": "stdout",
     "output_type": "stream",
     "text": [
      "38\n"
     ]
    },
    {
     "data": {
      "image/png": "[encoded data removed]",
      "text/plain": [
       "<matplotlib.figure.Figure at 0x84f0ef0>"
      ]
     },
     "metadata": {},
     "output_type": "display_data"
    }
   ],
   "source": [
    "import random\n",
    "import numpy as np\n",
    "import matplotlib.pyplot as plt\n",
    "%matplotlib inline\n",
    "\n",
    "index = random.randint(0, len(X_train))\n",
    "image = X_train[index].squeeze()\n",
    "\n",
    "plt.imshow(image)\n",
    "print(y_train[index])"
   ]
  },
  {
   "cell_type": "markdown",
   "metadata": {
    "deletable": true,
    "editable": true
   },
   "source": [
    "## Preprocess Data\n",
    "\n",
    "Shuffle the training data.\n",
    "\n",
    "You do not need to modify this section."
   ]
  },
  {
   "cell_type": "code",
   "execution_count": 4,
   "metadata": {
    "collapsed": false,
    "deletable": true,
    "editable": true
   },
   "outputs": [],
   "source": [
    "from sklearn.utils import shuffle\n",
    "\n",
    "X_train, y_train = shuffle(X_train, y_train)"
   ]
  },
  {
   "cell_type": "code",
   "execution_count": 28,
   "metadata": {
    "collapsed": false
   },
   "outputs": [],
   "source": [
    "#https://medium.com/@vivek.yadav/improved-performance-of-deep-learning-neural-network-models-on-traffic-sign-classification-using-6355346da2dc#.be9chacyf\n",
    "def augment_brightness_camera_images(im):\n",
    "    imHSV = cv.cvtColor(im,cv.COLOR_RGB2HSV)\n",
    "    imHSV = np.array(imHSV, dtype = np.float32)\n",
    "    random_bright = .5+np.random.uniform()\n",
    "    imHSV[:,:,2] = imHSV[:,:,2]*random_bright\n",
    "    imHSV[:,:,2][imHSV[:,:,2]>255]  = 255\n",
    "    imHSV = np.array(imHSV, dtype = np.uint8)\n",
    "    imHSV = cv.cvtColor(imHSV,cv.COLOR_HSV2RGB)\n",
    "    return imHSV\n",
    "\n",
    "def histogram_equalization_RGB(im):\n",
    "    img_yuv = cv.cvtColor(im, cv.COLOR_BGR2YUV)\n",
    "    # equalize the histogram of the Y channel\n",
    "    img_yuv[:,:,0] = cv.equalizeHist(img_yuv[:,:,0])\n",
    "    img_output = cv.cvtColor(img_yuv, cv.COLOR_YUV2BGR)\n",
    "    return img_output\n",
    "\n",
    "def generate_augmentation(x_t, y_t):\n",
    "    \n",
    "    x_t_out = np.asarray([im for im in x_t])\n",
    "    \n",
    "    for i in range(0,x_t.shape[0]): \n",
    "        #labels, values = zip(*y_count.items())\n",
    "        #if(y_counter[y_t[i]] <= np.mean(values)):\n",
    "        aug = randint(0,3)\n",
    "        if(aug == 0): \n",
    "            #shift\n",
    "            shift1 = randint(-3,3)\n",
    "            shift2 = randint(-3,3)\n",
    "            M = np.float32([[1,0,shift1],[0,1,shift2]])\n",
    "            x_t_out[i] = cv.warpAffine(x_t_out[i],M,(32,32))\n",
    "            #y_counter[y_t[i]] += 1\n",
    "        elif(aug == 1):\n",
    "            #rotate \n",
    "            rotate = 2*randint(-5,5)\n",
    "            M = cv.getRotationMatrix2D((16,16),rotate,1)\n",
    "            x_t_out[i] = cv.warpAffine(x_t_out[i],M,(32,32))\n",
    "                #y_counter[y_t[i]] += 1\n",
    "        elif(aug == 2):\n",
    "                #random shear\n",
    "            shear1 = 2*randint(-2,2)\n",
    "            shear2 = 2*randint(-2,2)\n",
    "            shear3 = 2*randint(-2,2)\n",
    "            pts1 = np.float32([[8,8],[24,24],[24,8]])\n",
    "            pts2 = np.float32([[8,8+shear1],[24+shear2,24],[24,8+shear3]])\n",
    "            M = cv.getAffineTransform(pts1,pts2)\n",
    "            x_t_out[i] = cv.warpAffine(x_t_out[i],M,(32,32))\n",
    "                #y_counter[y_t[i]] += 1\n",
    "        else:\n",
    "            pass\n",
    "                #resize\n",
    "                #x_t_out[i] = cv.resize(x_t_out[i],None,fx=1.2, fy=1.2, interpolation = cv.INTER_CUBIC)[3:35,3:35,:]\n",
    "                #y_counter[y_t[i]] += 1\n",
    "            #x_t_out[i] = augment_brightness_camera_images(x_t_out[i])\n",
    "    #plt.imshow(x_t_out[2000])\n",
    "    return (x_t_out, y_t)"
   ]
  },
  {
   "cell_type": "code",
   "execution_count": 22,
   "metadata": {
    "collapsed": false
   },
   "outputs": [
    {
     "name": "stdout",
     "output_type": "stream",
     "text": [
      "(69598, 32, 32, 3)\n"
     ]
    },
    {
     "data": {
      "image/png": "[encoded data removed]",
      "text/plain": [
       "<matplotlib.figure.Figure at 0x1f1ab9b0>"
      ]
     },
     "metadata": {},
     "output_type": "display_data"
    }
   ],
   "source": [
    "#Data Augmentation Tests\n",
    "from scipy import ndimage\n",
    "from random import randint\n",
    "\n",
    "fig = plt.figure()\n",
    "\n",
    "plt1 = fig.add_subplot(221)\n",
    "plt2 = fig.add_subplot(222)\n",
    "plt3 = fig.add_subplot(223)\n",
    "plt4 = fig.add_subplot(224)\n",
    "\n",
    "shift1 = randint(-3,3)\n",
    "shift2 = randint(-3,3)\n",
    "M = np.float32([[1,0,shift1],[0,1,shift2]])\n",
    "X_train_translate= np.asarray([cv.warpAffine(im,M,(32,32)) for im in X_train_norm])\n",
    "plt1.imshow(X_train_translate[1500])\n",
    "plt.title('Random Translation Test')\n",
    "\n",
    "X_train_resize = np.asarray([cv.resize(im,None,fx=1.2, fy=1.2, interpolation = cv.INTER_CUBIC) for im in X_train_norm])[:,3:35,3:35,:]\n",
    "plt2.imshow(X_train_resize[1500])\n",
    "plt.title('Resize Test')\n",
    "\n",
    "rotate = 2*randint(-5,5)\n",
    "M = cv.getRotationMatrix2D((16,16),rotate,1)\n",
    "X_train_rotate = np.asarray([cv.warpAffine(im,M,(32,32)) for im in X_train_norm])\n",
    "plt3.imshow(X_train_rotate[1500])\n",
    "plt.title('Random Rotate Test')\n",
    "\n",
    "shear1 = 2*randint(-2,2)\n",
    "shear2 = 2*randint(-2,2)\n",
    "shear3 = 2*randint(-2,2)\n",
    "pts1 = np.float32([[8,8],[24,24],[24,8]])\n",
    "pts2 = np.float32([[8,8+shear1],[24+shear2,24],[24,8+shear3]])\n",
    "M = cv.getAffineTransform(pts1,pts2)\n",
    "X_train_shear_up= np.asarray([cv.warpAffine(im,M,(32,32)) for im in X_train_norm])\n",
    "plt4.imshow(X_train_shear_up[1500])\n",
    "plt.title('Random Shear Test')\n",
    "\n",
    "X_aug_test = np.concatenate((X_train_resize, X_train_translate))\n",
    "\n",
    "print(X_aug_test.shape)"
   ]
  },
  {
   "cell_type": "markdown",
   "metadata": {
    "deletable": true,
    "editable": true
   },
   "source": [
    "## Setup TensorFlow\n",
    "The `EPOCH` and `BATCH_SIZE` values affect the training speed and model accuracy.\n",
    "\n",
    "You do not need to modify this section."
   ]
  },
  {
   "cell_type": "code",
   "execution_count": 5,
   "metadata": {
    "collapsed": true,
    "deletable": true,
    "editable": true
   },
   "outputs": [],
   "source": [
    "import tensorflow as tf\n",
    "\n",
    "EPOCHS = 30\n",
    "BATCH_SIZE = 512"
   ]
  },
  {
   "cell_type": "markdown",
   "metadata": {
    "deletable": true,
    "editable": true
   },
   "source": [
    "## TODO: Implement LeNet-5\n",
    "Implement the [LeNet-5](http://yann.lecun.com/exdb/lenet/) neural network architecture.\n",
    "\n",
    "This is the only cell you need to edit.\n",
    "### Input\n",
    "The LeNet architecture accepts a 32x32xC image as input, where C is the number of color channels. Since MNIST images are grayscale, C is 1 in this case.\n",
    "\n",
    "### Architecture\n",
    "**Layer 1: Convolutional.** The output shape should be 28x28x6.\n",
    "\n",
    "**Activation.** Your choice of activation function.\n",
    "\n",
    "**Pooling.** The output shape should be 14x14x6.\n",
    "\n",
    "**Layer 2: Convolutional.** The output shape should be 10x10x16.\n",
    "\n",
    "**Activation.** Your choice of activation function.\n",
    "\n",
    "**Pooling.** The output shape should be 5x5x16.\n",
    "\n",
    "**Flatten.** Flatten the output shape of the final pooling layer such that it's 1D instead of 3D. The easiest way to do is by using `tf.contrib.layers.flatten`, which is already imported for you.\n",
    "\n",
    "**Layer 3: Fully Connected.** This should have 120 outputs.\n",
    "\n",
    "**Activation.** Your choice of activation function.\n",
    "\n",
    "**Layer 4: Fully Connected.** This should have 84 outputs.\n",
    "\n",
    "**Activation.** Your choice of activation function.\n",
    "\n",
    "**Layer 5: Fully Connected (Logits).** This should have 10 outputs.\n",
    "\n",
    "### Output\n",
    "Return the result of the 2nd fully connected layer."
   ]
  },
  {
   "cell_type": "code",
   "execution_count": 6,
   "metadata": {
    "collapsed": false,
    "deletable": true,
    "editable": true
   },
   "outputs": [],
   "source": [
    "from tensorflow.contrib.layers import flatten\n",
    "\n",
    "def LeNet(x):    \n",
    "    # Arguments used for tf.truncated_normal, randomly defines variables for the weights and biases for each layer\n",
    "    mu = 0\n",
    "    sigma = 0.1\n",
    "    dropout = 0.7\n",
    "    \n",
    "    # TODO: Layer 1: Convolutional. Input = 32x32x3. Output = 28x28x6.\n",
    "    weights1 = tf.Variable(tf.truncated_normal([5,5,3,6],mean=mu,stddev=sigma))\n",
    "    bias1 = tf.Variable(tf.truncated_normal([6],mean=mu,stddev=sigma))\n",
    "    conv1 = tf.nn.conv2d(x,weights1, strides=[1,1,1,1], padding='VALID')\n",
    "    conv1 = tf.nn.bias_add(conv1,bias1)\n",
    "    # TODO: Activation.\n",
    "    conv1 = tf.nn.relu(conv1)\n",
    "    conv1 = tf.nn.dropout(conv1, dropout)\n",
    "\n",
    "    # TODO: Pooling. Input = 28x28x6. Output = 14x14x6.\n",
    "    pool1 = tf.nn.max_pool(conv1, ksize=[1,2,2,1], strides=[1,2,2,1], padding='VALID')                       \n",
    "    \n",
    "    # TODO: Layer 2: Convolutional. Output = 10x10x16.\n",
    "    weights2 = tf.Variable(tf.truncated_normal([5,5,6,16],mean=mu,stddev=sigma))\n",
    "    bias2 = tf.Variable(tf.truncated_normal([16],mean=mu,stddev=sigma))\n",
    "    conv2 = tf.nn.conv2d(pool1, weights2, strides=[1,1,1,1], padding='VALID')\n",
    "    conv2 = tf.nn.bias_add(conv2, bias2)      \n",
    "    \n",
    "    # TODO: Activation.\n",
    "    conv2 = tf.nn.relu(conv2) \n",
    "    conv2 = tf.nn.dropout(conv2, dropout)\n",
    "\n",
    "    # TODO: Pooling. Input = 10x10x16. Output = 5x5x16.\n",
    "    pool2 = tf.nn.max_pool(conv2, ksize=[1,2,2,1], strides=[1,2,2,1], padding='VALID')\n",
    "                           \n",
    "    # TODO: Flatten. Input = 5x5x16. Output = 400.\n",
    "    flat=tf.contrib.layers.flatten(pool2)\n",
    "    \n",
    "    # TODO: Layer 3: Fully Connected. Input = 400. Output = 120.\n",
    "    weights3 = tf.Variable(tf.truncated_normal([400,120],mean=mu,stddev=sigma))\n",
    "    bias3 = tf.Variable(tf.truncated_normal([120],mean=mu,stddev=sigma))                       \n",
    "    fc3 = tf.add(tf.matmul(flat, weights3),bias3)\n",
    "                           \n",
    "                        \n",
    "    # TODO: Activation.\n",
    "    fc3 = tf.nn.relu(fc3)\n",
    "    \n",
    "    fc3 = tf.nn.dropout(fc3)\n",
    "\n",
    "    # TODO: Layer 4: Fully Connected. Input = 120. Output = 84.\n",
    "    weights4 = tf.Variable(tf.truncated_normal([120,84],mean=mu,stddev=sigma))\n",
    "    bias4 = tf.Variable(tf.truncated_normal([84],mean=mu,stddev=sigma))                       \n",
    "    fc4 = tf.add(tf.matmul(fc3, weights4),bias4)\n",
    "    # TODO: Activation.\n",
    "    fc4 = tf.nn.relu(fc4)\n",
    "    \n",
    "    fc4 = tf.nn.dropout(fc4)\n",
    "    \n",
    "    # TODO: Layer 5: Fully Connected. Input = 84. Output = 10.\n",
    "    weights5 = tf.Variable(tf.truncated_normal([84,43],mean=mu,stddev=sigma))\n",
    "    bias5 = tf.Variable(tf.truncated_normal([43],mean=mu,stddev=sigma))                       \n",
    "    logits = tf.add(tf.matmul(fc4, weights5),bias5)\n",
    "    return logits"
   ]
  },
  {
   "cell_type": "markdown",
   "metadata": {
    "deletable": true,
    "editable": true
   },
   "source": [
    "## Features and Labels\n",
    "Train LeNet to classify [MNIST](http://yann.lecun.com/exdb/mnist/) data.\n",
    "\n",
    "`x` is a placeholder for a batch of input images.\n",
    "`y` is a placeholder for a batch of output labels.\n",
    "\n",
    "You do not need to modify this section."
   ]
  },
  {
   "cell_type": "code",
   "execution_count": 7,
   "metadata": {
    "collapsed": false,
    "deletable": true,
    "editable": true
   },
   "outputs": [],
   "source": [
    "x = tf.placeholder(tf.float32, (None, 32, 32, 3))\n",
    "y = tf.placeholder(tf.int32, (None))\n",
    "one_hot_y = tf.one_hot(y, 43)"
   ]
  },
  {
   "cell_type": "markdown",
   "metadata": {
    "deletable": true,
    "editable": true
   },
   "source": [
    "## Training Pipeline\n",
    "Create a training pipeline that uses the model to classify MNIST data.\n",
    "\n",
    "You do not need to modify this section."
   ]
  },
  {
   "cell_type": "code",
   "execution_count": 30,
   "metadata": {
    "collapsed": false,
    "deletable": true,
    "editable": true
   },
   "outputs": [],
   "source": [
    "rate = 0.005\n",
    "logits = LeNet(x)\n",
    "cross_entropy = tf.nn.softmax_cross_entropy_with_logits(logits=logits,labels=one_hot_y)\n",
    "loss_operation = tf.reduce_mean(cross_entropy)\n",
    "optimizer = tf.train.AdamOptimizer(learning_rate = rate)\n",
    "training_operation = optimizer.minimize(loss_operation)"
   ]
  },
  {
   "cell_type": "markdown",
   "metadata": {
    "deletable": true,
    "editable": true
   },
   "source": [
    "## Model Evaluation\n",
    "Evaluate how well the loss and accuracy of the model for a given dataset.\n",
    "\n",
    "You do not need to modify this section."
   ]
  },
  {
   "cell_type": "code",
   "execution_count": 31,
   "metadata": {
    "collapsed": false,
    "deletable": true,
    "editable": true
   },
   "outputs": [],
   "source": [
    "correct_prediction = tf.equal(tf.argmax(logits, 1), tf.argmax(one_hot_y, 1))\n",
    "accuracy_operation = tf.reduce_mean(tf.cast(correct_prediction, tf.float32))\n",
    "saver = tf.train.Saver()\n",
    "\n",
    "def evaluate(X_data, y_data):\n",
    "    num_examples = len(X_data)\n",
    "    total_accuracy = 0\n",
    "    sess = tf.get_default_session()\n",
    "    for offset in range(0, num_examples, BATCH_SIZE):\n",
    "        batch_x, batch_y = X_data[offset:offset+BATCH_SIZE], y_data[offset:offset+BATCH_SIZE]\n",
    "        accuracy = sess.run(accuracy_operation, feed_dict={x: batch_x, y: batch_y})\n",
    "        total_accuracy += (accuracy * len(batch_x))\n",
    "    return total_accuracy / num_examples"
   ]
  },
  {
   "cell_type": "markdown",
   "metadata": {
    "deletable": true,
    "editable": true
   },
   "source": [
    "## Train the Model\n",
    "Run the training data through the training pipeline to train the model.\n",
    "\n",
    "Before each epoch, shuffle the training set.\n",
    "\n",
    "After each epoch, measure the loss and accuracy of the validation set.\n",
    "\n",
    "Save the model after training.\n",
    "\n",
    "You do not need to modify this section."
   ]
  },
  {
   "cell_type": "code",
   "execution_count": 32,
   "metadata": {
    "collapsed": false,
    "deletable": true,
    "editable": true
   },
   "outputs": [
    {
     "name": "stdout",
     "output_type": "stream",
     "text": [
      "Training...\n",
      "\n",
      "EPOCH 1 ...\n",
      "Validation Accuracy = 0.586\n",
      "Train Accuracy = 0.677\n",
      "\n",
      "EPOCH 2 ...\n",
      "Validation Accuracy = 0.745\n",
      "Train Accuracy = 0.846\n",
      "\n",
      "EPOCH 3 ...\n",
      "Validation Accuracy = 0.819\n",
      "Train Accuracy = 0.908\n",
      "\n",
      "EPOCH 4 ...\n",
      "Validation Accuracy = 0.837\n",
      "Train Accuracy = 0.934\n",
      "\n",
      "EPOCH 5 ...\n",
      "Validation Accuracy = 0.863\n",
      "Train Accuracy = 0.957\n",
      "\n",
      "EPOCH 6 ...\n",
      "Validation Accuracy = 0.881\n",
      "Train Accuracy = 0.965\n",
      "\n",
      "EPOCH 7 ...\n",
      "Validation Accuracy = 0.869\n",
      "Train Accuracy = 0.972\n",
      "\n",
      "EPOCH 8 ...\n",
      "Validation Accuracy = 0.895\n",
      "Train Accuracy = 0.982\n",
      "\n",
      "EPOCH 9 ...\n",
      "Validation Accuracy = 0.888\n",
      "Train Accuracy = 0.982\n",
      "\n",
      "EPOCH 10 ...\n",
      "Validation Accuracy = 0.905\n",
      "Train Accuracy = 0.983\n",
      "\n",
      "EPOCH 11 ...\n",
      "Validation Accuracy = 0.902\n",
      "Train Accuracy = 0.985\n",
      "\n",
      "EPOCH 12 ...\n",
      "Validation Accuracy = 0.898\n",
      "Train Accuracy = 0.986\n",
      "\n",
      "EPOCH 13 ...\n",
      "Validation Accuracy = 0.904\n",
      "Train Accuracy = 0.990\n",
      "\n",
      "EPOCH 14 ...\n",
      "Validation Accuracy = 0.909\n",
      "Train Accuracy = 0.989\n",
      "\n",
      "EPOCH 15 ...\n",
      "Validation Accuracy = 0.907\n",
      "Train Accuracy = 0.983\n",
      "\n",
      "EPOCH 16 ...\n",
      "Validation Accuracy = 0.922\n",
      "Train Accuracy = 0.992\n",
      "\n",
      "EPOCH 17 ...\n",
      "Validation Accuracy = 0.903\n",
      "Train Accuracy = 0.981\n",
      "\n",
      "EPOCH 18 ...\n",
      "Validation Accuracy = 0.923\n",
      "Train Accuracy = 0.994\n",
      "\n",
      "EPOCH 19 ...\n",
      "Validation Accuracy = 0.925\n",
      "Train Accuracy = 0.993\n",
      "\n",
      "EPOCH 20 ...\n",
      "Validation Accuracy = 0.915\n",
      "Train Accuracy = 0.987\n",
      "\n",
      "EPOCH 21 ...\n",
      "Validation Accuracy = 0.922\n",
      "Train Accuracy = 0.992\n",
      "\n",
      "EPOCH 22 ...\n",
      "Validation Accuracy = 0.912\n",
      "Train Accuracy = 0.992\n",
      "\n",
      "EPOCH 23 ...\n",
      "Validation Accuracy = 0.914\n",
      "Train Accuracy = 0.993\n",
      "\n",
      "EPOCH 24 ...\n",
      "Validation Accuracy = 0.899\n",
      "Train Accuracy = 0.993\n",
      "\n",
      "EPOCH 25 ...\n",
      "Validation Accuracy = 0.914\n",
      "Train Accuracy = 0.992\n",
      "\n",
      "EPOCH 26 ...\n",
      "Validation Accuracy = 0.906\n",
      "Train Accuracy = 0.993\n",
      "\n",
      "EPOCH 27 ...\n",
      "Validation Accuracy = 0.906\n",
      "Train Accuracy = 0.993\n",
      "\n",
      "EPOCH 28 ...\n",
      "Validation Accuracy = 0.917\n",
      "Train Accuracy = 0.996\n",
      "\n",
      "EPOCH 29 ...\n",
      "Validation Accuracy = 0.917\n",
      "Train Accuracy = 0.995\n",
      "\n",
      "EPOCH 30 ...\n",
      "Validation Accuracy = 0.926\n",
      "Train Accuracy = 0.995\n",
      "\n",
      "Model saved\n"
     ]
    }
   ],
   "source": [
    "with tf.Session() as sess:\n",
    "    sess.run(tf.global_variables_initializer())\n",
    "    num_examples = len(X_train)\n",
    "    \n",
    "    print(\"Training...\")\n",
    "    print()\n",
    "    for i in range(EPOCHS):\n",
    "        X_train_norm, y_train = shuffle(X_train_norm, y_train)\n",
    "        for offset in range(0, num_examples, BATCH_SIZE):\n",
    "            end = offset + BATCH_SIZE\n",
    "            batch_x, batch_y = generate_augmentation(X_train_norm[offset:end], y_train[offset:end])\n",
    "            sess.run(training_operation, feed_dict={x: batch_x, y: batch_y})\n",
    "            \n",
    "        validation_accuracy = evaluate(X_valid_norm, y_valid)\n",
    "        train_accuracy = evaluate(X_train_norm, y_train)\n",
    "        print(\"EPOCH {} ...\".format(i+1))\n",
    "        print(\"Validation Accuracy = {:.3f}\".format(validation_accuracy))\n",
    "        print(\"Train Accuracy = {:.3f}\".format(train_accuracy))\n",
    "        print()\n",
    "        \n",
    "    saver.save(sess, './lenet')\n",
    "    print(\"Model saved\")"
   ]
  },
  {
   "cell_type": "markdown",
   "metadata": {
    "deletable": true,
    "editable": true
   },
   "source": [
    "## Evaluate the Model\n",
    "Once you are completely satisfied with your model, evaluate the performance of the model on the test set.\n",
    "\n",
    "Be sure to only do this once!\n",
    "\n",
    "If you were to measure the performance of your trained model on the test set, then improve your model, and then measure the performance of your model on the test set again, that would invalidate your test results. You wouldn't get a true measure of how well your model would perform against real data.\n",
    "\n",
    "You do not need to modify this section."
   ]
  },
  {
   "cell_type": "code",
   "execution_count": 33,
   "metadata": {
    "collapsed": false,
    "deletable": true,
    "editable": true
   },
   "outputs": [
    {
     "name": "stdout",
     "output_type": "stream",
     "text": [
      "Test Accuracy = 0.904\n"
     ]
    }
   ],
   "source": [
    "with tf.Session() as sess:\n",
    "    saver.restore(sess, tf.train.latest_checkpoint('.'))\n",
    "\n",
    "    test_accuracy = evaluate(X_test, y_test)\n",
    "    print(\"Test Accuracy = {:.3f}\".format(test_accuracy))"
   ]
  },
  {
   "cell_type": "code",
   "execution_count": null,
   "metadata": {
    "collapsed": true,
    "deletable": true,
    "editable": true
   },
   "outputs": [],
   "source": []
  }
 ],
 "metadata": {
  "anaconda-cloud": {},
  "kernelspec": {
   "display_name": "Python 3",
   "language": "python",
   "name": "python3"
  },
  "language_info": {
   "codemirror_mode": {
    "name": "ipython",
    "version": 3
   },
   "file_extension": ".py",
   "mimetype": "text/x-python",
   "name": "python",
   "nbconvert_exporter": "python",
   "pygments_lexer": "ipython3",
   "version": "3.5.2"
  }
 },
 "nbformat": 4,
 "nbformat_minor": 0
}
